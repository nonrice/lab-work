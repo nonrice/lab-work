{
 "cells": [
  {
   "cell_type": "markdown",
   "metadata": {},
   "source": [
    "\n",
    "Improve tongue tracking by removing connected components\n",
    "\n",
    "Tongue tracking produces a tongue mask which may contain artifact. The largest connected component should be the tongue, therefore other connected components can be removed.\n",
    "\n",
    "Data format: takes advantage of sparseness\n",
    "Frames:\n",
    "Rows are numbered 1, 2,... however many frames from recording are blank. Blank frames are removed but rows remain numbered 1, 2,... so the actual frame number is recorded per row\n",
    "\n",
    "Height, widths, probs:\n",
    "Many pixels in the image are not part of the tongue. Pixels are represented as 3-tuples of (x, y, prob) where prob is the neural network prediction of the pixel being a tongue pixel- prob is generally high since only pixels with a high probability were kept. "
   ]
  },
  {
   "cell_type": "code",
   "execution_count": 130,
   "metadata": {},
   "outputs": [
    {
     "data": {
      "text/plain": [
       "64645"
      ]
     },
     "execution_count": 130,
     "metadata": {},
     "output_type": "execute_result"
    }
   ],
   "source": [
    "import h5py\n",
    "tongue_filepath = \"data/phox2b38_20240307_1_tongue.h5\"\n",
    "\n",
    "f = h5py.File(tongue_filepath, \"r\")\n",
    "frames = f.get(\"frames\")\n",
    "heights = f.get(\"heights\")\n",
    "widths = f.get(\"widths\")\n",
    "probs = f.get(\"probs\")\n",
    "len(frames)\n"
   ]
  },
  {
   "cell_type": "code",
   "execution_count": 4,
   "metadata": {},
   "outputs": [
    {
     "name": "stdout",
     "output_type": "stream",
     "text": [
      "asdf\n"
     ]
    }
   ],
   "source": [
    "import numpy as np\n",
    "import cv2\n",
    "\n",
    "def process_img(img):\n",
    "\t# identify 2 largest CCs (background and tongue)\n",
    "\tnb_components, labels, stats, centroids = cv2.connectedComponentsWithStats(img, connectivity=4)\n",
    "\tsizes = sorted([(s, i) for i, s in enumerate(stats[:, -1])], reverse=True)\n",
    "\n",
    "\t# color anyting not bg/tongue as black\n",
    "\tfor i in range(img.shape[0]):\n",
    "\t\timg[i][np.logical_and(labels[i] != sizes[0][1], labels[i] != sizes[1][1])] = [0]\n",
    "\n",
    "\treturn img\n",
    "\n",
    "def plot_frame(heights, widths, img_height, img_width, name):\n",
    "\timg = np.zeros((img_height, img_width, 1), dtype=np.uint8)\n",
    "\n",
    "\t# plotting pixels\n",
    "\tfor i in range(len(heights)):\n",
    "\t\timg[heights[i]][widths[i]] = [255] \n",
    "\n",
    "\t# write unchanged masks\n",
    "\tcv2.imwrite(f\"output/raw{name}.png\", img)\n",
    "\n",
    "\t# write processed masks\n",
    "\timg = process_img(img)\n",
    "\tcv2.imwrite(f\"output/{name}.png\", img)"
   ]
  },
  {
   "cell_type": "code",
   "execution_count": 141,
   "metadata": {},
   "outputs": [],
   "source": [
    "for i in range(100, 200):\n",
    "\tplot_frame(heights[i], widths[i], 256, 256, f\"{frames[i]}\")"
   ]
  }
 ],
 "metadata": {
  "kernelspec": {
   "display_name": "base",
   "language": "python",
   "name": "python3"
  },
  "language_info": {
   "codemirror_mode": {
    "name": "ipython",
    "version": 3
   },
   "file_extension": ".py",
   "mimetype": "text/x-python",
   "name": "python",
   "nbconvert_exporter": "python",
   "pygments_lexer": "ipython3",
   "version": "3.9.9"
  }
 },
 "nbformat": 4,
 "nbformat_minor": 2
}
