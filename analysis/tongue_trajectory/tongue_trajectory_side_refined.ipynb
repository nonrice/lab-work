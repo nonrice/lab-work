{
 "cells": [
  {
   "cell_type": "code",
   "execution_count": 1,
   "metadata": {},
   "outputs": [
    {
     "name": "stderr",
     "output_type": "stream",
     "text": [
      "OMP: Info #276: omp_set_nested routine deprecated, please use omp_set_max_active_levels instead.\n"
     ]
    },
    {
     "data": {
      "text/plain": [
       "'Frame count: 34286'"
      ]
     },
     "metadata": {},
     "output_type": "display_data"
    }
   ],
   "source": [
    "# Loading my orofacial module\n",
    "import sys\n",
    "sys.path.append(\"/Users/eric/Workspace/wangLab/orofacial\")\n",
    "import orofacial\n",
    "\n",
    "# Load the h5 file of interest\n",
    "h5_path = \"data/phox2b38_20240321_1_tongue.h5\"\n",
    "h5 = orofacial.tongue_mask_processing.TongueArchive(h5_path)\n",
    "display(f\"Frame count: {len(h5.frames)}\")"
   ]
  },
  {
   "cell_type": "code",
   "execution_count": null,
   "metadata": {},
   "outputs": [],
   "source": [
    "import tqdm\n",
    "from matplotlib import pyplot as plt\n",
    "\n",
    "# Extract images from the archive and pair them with their true frame number\n",
    "imgs = []\n",
    "for i in tqdm.tqdm(range(len(h5.frames))):\n",
    "    imgs.append((orofacial.tongue_mask_processing.plot_frame_bool(h5, i, 256, 256), h5.frames[i]))\n",
    "\n",
    "plt.imshow(imgs[1000][0], cmap='gray')"
   ]
  },
  {
   "cell_type": "code",
   "execution_count": null,
   "metadata": {},
   "outputs": [],
   "source": [
    "import numpy as np\n",
    "\n",
    "# removing images with less than 15 pixels as preprocessing step\n",
    "imgs = list(filter(lambda x : np.count_nonzero(x[0]) > 15, tqdm.tqdm(imgs)))"
   ]
  },
  {
   "cell_type": "code",
   "execution_count": null,
   "metadata": {},
   "outputs": [],
   "source": [
    "# keep only the largest connected component of each image\n",
    "imgs = list(map(lambda x : (orofacial.tongue_mask_processing.keep_largest_cc(x[0].astype(np.uint8)).astype(np.bool_), x[1]), tqdm.tqdm(imgs)))"
   ]
  },
  {
   "cell_type": "code",
   "execution_count": null,
   "metadata": {},
   "outputs": [],
   "source": [
    "# Extract the tongue tip coordinates from the images \n",
    "coords = list(map(lambda x : orofacial.tongue_tip_track_2D.find_tongue_tip(x[0], np.array([-1, 1], dtype=np.float32)), tqdm.tqdm(imgs)))"
   ]
  },
  {
   "cell_type": "code",
   "execution_count": null,
   "metadata": {},
   "outputs": [],
   "source": [
    "from matplotlib.patches import Rectangle\n",
    "\n",
    "feed_tube_top_left = (0, 290)\n",
    "feed_tube_bottom_right = (239, 346)\n",
    "def plot_feed_tube():\n",
    "    plt.gca().add_patch(Rectangle(feed_tube_top_left, feed_tube_bottom_right[0]-feed_tube_bottom_right[0], feed_tube_top_left[1]-feed_tube_bottom_right[1], linewidth=1, edgecolor=\"#00FF00\", facecolor='none', zorder=10))\n",
    "\n",
    "zoom_xlim = [150, 400]\n",
    "zoom_ylim = [450, 150]\n",
    "def set_zoom():\n",
    "    plt.gca().set_xlim(zoom_xlim)\n",
    "    plt.gca().set_ylim(zoom_ylim)\n",
    "    plt.gca().set_box_aspect(1)\n",
    "\n",
    "plt.imshow(imgs[1000][0], extent=[0, 640, 480, 0], cmap=\"gray\")\n",
    "plot_feed_tube()"
   ]
  },
  {
   "cell_type": "code",
   "execution_count": null,
   "metadata": {},
   "outputs": [],
   "source": [
    "# first look at tracking result\n",
    "# analysis operates in 256x256 so for display purpose they are scaled to the proper 640x480 dimension\n",
    "x, y = np.column_stack(coords)\n",
    "plt.gca().invert_yaxis()\n",
    "plt.scatter(x*(640/256), y*(480/256), s=1)\n",
    "plot_feed_tube()"
   ]
  },
  {
   "cell_type": "code",
   "execution_count": null,
   "metadata": {},
   "outputs": [],
   "source": [
    "# define a lick to be a contiguous region of tracked frames where tongue is visible\n",
    "# the archive only contains frames where the tongue is visible, so we are looking for gaps in frame number\n",
    "licks = [[coords[0]]]\n",
    "for i in range(1, len(coords)):\n",
    "    if isinstance(coords[i], np.ndarray):\n",
    "        if imgs[i][1] != imgs[i-1][1] + 1:\n",
    "            licks.append([coords[i]])\n",
    "        else:\n",
    "            licks[-1].append(coords[i])\n",
    "display(f\"{len(licks)} licks\")"
   ]
  },
  {
   "cell_type": "code",
   "execution_count": null,
   "metadata": {},
   "outputs": [],
   "source": [
    "# Showing the licks with some transparency\n",
    "plt.gca().invert_yaxis()\n",
    "for p in licks:\n",
    "    x, y = np.column_stack(p)\n",
    "    plt.plot(x*(640/256), y*(480/256), alpha=0.05, c=\"blue\")\n",
    "plot_feed_tube()\n",
    "set_zoom()"
   ]
  },
  {
   "cell_type": "code",
   "execution_count": null,
   "metadata": {},
   "outputs": [],
   "source": [
    "import scipy\n",
    "\n",
    "# Interpolating the licks, returns 100 points along interpolation effectively parameterizing the lick\n",
    "def interp(p):\n",
    "    tck, u = scipy.interpolate.splprep(np.column_stack(p), s=0, k=3) \n",
    "    t = np.linspace(0, 1, 100)\n",
    "    x_new, y_new = scipy.interpolate.splev(t, tck)\n",
    "    return list(zip(x_new, y_new))\n",
    "\n",
    "# Applying interpolation on all licks\n",
    "licks_p = []\n",
    "for i in range(len(licks)):\n",
    "    # splprep requires at least 3 points and no duplicate points, preprocessing is needed\n",
    "    p = [licks[i][0]]\n",
    "    for j in range(1, len(licks[i])):\n",
    "        if np.linalg.norm(np.array(licks[i][j]) - np.array(p[-1])) > 0.001:\n",
    "            p.append(licks[i][j])\n",
    "    if len(p) > 3:\n",
    "        licks_p.append(interp(p))"
   ]
  },
  {
   "cell_type": "code",
   "execution_count": null,
   "metadata": {},
   "outputs": [],
   "source": [
    "# Plotting the interpolated licks, shouldn't be much of a difference\n",
    "plt.gca().invert_yaxis()\n",
    "for p in licks_p:\n",
    "    x, y = np.column_stack(p)\n",
    "    plt.plot(x*(640/256), y*(480/256), alpha=0.05, c=\"blue\")\n",
    "plot_feed_tube()\n",
    "set_zoom()"
   ]
  },
  {
   "cell_type": "code",
   "execution_count": null,
   "metadata": {},
   "outputs": [],
   "source": []
  }
 ],
 "metadata": {
  "kernelspec": {
   "display_name": "ml",
   "language": "python",
   "name": "python3"
  },
  "language_info": {
   "codemirror_mode": {
    "name": "ipython",
    "version": 3
   },
   "file_extension": ".py",
   "mimetype": "text/x-python",
   "name": "python",
   "nbconvert_exporter": "python",
   "pygments_lexer": "ipython3",
   "version": "3.9.7"
  }
 },
 "nbformat": 4,
 "nbformat_minor": 2
}
